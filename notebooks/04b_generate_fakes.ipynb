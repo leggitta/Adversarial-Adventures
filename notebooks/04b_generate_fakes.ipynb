{
 "cells": [
  {
   "cell_type": "code",
   "execution_count": 1,
   "id": "5610fe6b",
   "metadata": {},
   "outputs": [],
   "source": [
    "import ipywidgets\n",
    "from itertools import product\n",
    "import matplotlib.pyplot as plt\n",
    "import numpy as np\n",
    "import sys\n",
    "from torchsummary import summary\n",
    "from torchvision.utils import make_grid\n",
    "\n",
    "sys.path.append('..')\n",
    "from utils import *\n",
    "\n",
    "%matplotlib inline"
   ]
  },
  {
   "cell_type": "code",
   "execution_count": 2,
   "id": "56094173",
   "metadata": {},
   "outputs": [],
   "source": [
    "C = len(classes)\n",
    "S = len(species)\n",
    "G = len(genders)"
   ]
  },
  {
   "cell_type": "code",
   "execution_count": 3,
   "id": "0dab0e14",
   "metadata": {},
   "outputs": [
    {
     "data": {
      "text/plain": [
       "(12, 8, 3, 288)"
      ]
     },
     "execution_count": 3,
     "metadata": {},
     "output_type": "execute_result"
    }
   ],
   "source": [
    "C, S, G, C*S*G"
   ]
  },
  {
   "cell_type": "code",
   "execution_count": 4,
   "id": "cc3ceedf",
   "metadata": {},
   "outputs": [],
   "source": [
    "c, s, g = torch.LongTensor(np.array(list(product(*(range(C), range(S), range(G))))).T)"
   ]
  },
  {
   "cell_type": "code",
   "execution_count": 5,
   "id": "c84a7a83",
   "metadata": {
    "scrolled": false
   },
   "outputs": [
    {
     "ename": "RuntimeError",
     "evalue": "Error(s) in loading state_dict for ConditionalVariationalAutoEncoder:\n\tMissing key(s) in state_dict: \"dec.net.2.weight\", \"dec.net.2.bias\", \"dec.net.4.weight\", \"dec.net.4.bias\", \"dec.net.6.weight\", \"dec.net.6.bias\", \"dec.net.8.weight\", \"dec.net.8.bias\", \"dec.net.10.weight\", \"dec.net.10.bias\", \"dec.net.12.weight\", \"dec.net.12.bias\", \"dec.net.14.weight\", \"dec.net.14.bias\", \"dec.net.16.weight\", \"dec.net.16.bias\", \"dec.net.18.weight\", \"dec.net.18.bias\". \n\tUnexpected key(s) in state_dict: \"dec.net.3.weight\", \"dec.net.3.bias\", \"dec.net.5.weight\", \"dec.net.5.bias\", \"dec.net.7.weight\", \"dec.net.7.bias\", \"dec.net.9.weight\", \"dec.net.9.bias\", \"dec.net.11.weight\", \"dec.net.11.bias\", \"dec.net.13.weight\", \"dec.net.13.bias\", \"dec.net.15.weight\", \"dec.net.15.bias\", \"dec.net.17.weight\", \"dec.net.17.bias\", \"dec.net.19.weight\", \"dec.net.19.bias\". \n\tsize mismatch for enc.net.0.weight: copying a param with shape torch.Size([8, 4, 4, 4]) from checkpoint, the shape in current model is torch.Size([16, 4, 4, 4]).\n\tsize mismatch for enc.net.0.bias: copying a param with shape torch.Size([8]) from checkpoint, the shape in current model is torch.Size([16]).\n\tsize mismatch for enc.net.2.weight: copying a param with shape torch.Size([16, 8, 3, 3]) from checkpoint, the shape in current model is torch.Size([32, 16, 3, 3]).\n\tsize mismatch for enc.net.2.bias: copying a param with shape torch.Size([16]) from checkpoint, the shape in current model is torch.Size([32]).\n\tsize mismatch for enc.net.4.weight: copying a param with shape torch.Size([32, 16, 3, 3]) from checkpoint, the shape in current model is torch.Size([64, 32, 3, 3]).\n\tsize mismatch for enc.net.4.bias: copying a param with shape torch.Size([32]) from checkpoint, the shape in current model is torch.Size([64]).\n\tsize mismatch for enc.net.6.weight: copying a param with shape torch.Size([64, 32, 3, 3]) from checkpoint, the shape in current model is torch.Size([128, 64, 3, 3]).\n\tsize mismatch for enc.net.6.bias: copying a param with shape torch.Size([64]) from checkpoint, the shape in current model is torch.Size([128]).\n\tsize mismatch for enc.net.8.weight: copying a param with shape torch.Size([128, 64, 3, 3]) from checkpoint, the shape in current model is torch.Size([256, 128, 3, 3]).\n\tsize mismatch for enc.net.8.bias: copying a param with shape torch.Size([128]) from checkpoint, the shape in current model is torch.Size([256]).\n\tsize mismatch for enc.net.10.weight: copying a param with shape torch.Size([256, 128, 2, 2]) from checkpoint, the shape in current model is torch.Size([512, 256, 2, 2]).\n\tsize mismatch for enc.net.10.bias: copying a param with shape torch.Size([256]) from checkpoint, the shape in current model is torch.Size([512]).\n\tsize mismatch for enc.net.12.weight: copying a param with shape torch.Size([512, 256, 2, 2]) from checkpoint, the shape in current model is torch.Size([1024, 512, 2, 2]).\n\tsize mismatch for enc.net.12.bias: copying a param with shape torch.Size([512]) from checkpoint, the shape in current model is torch.Size([1024]).\n\tsize mismatch for enc.net.14.weight: copying a param with shape torch.Size([1024, 512, 2, 2]) from checkpoint, the shape in current model is torch.Size([2048, 1024, 2, 2]).\n\tsize mismatch for enc.net.14.bias: copying a param with shape torch.Size([1024]) from checkpoint, the shape in current model is torch.Size([2048]).\n\tsize mismatch for enc.net.16.weight: copying a param with shape torch.Size([1024, 1024, 2, 2]) from checkpoint, the shape in current model is torch.Size([4096, 2048, 2, 2]).\n\tsize mismatch for enc.net.16.bias: copying a param with shape torch.Size([1024]) from checkpoint, the shape in current model is torch.Size([4096]).\n\tsize mismatch for enc.net.19.weight: copying a param with shape torch.Size([1024, 1024]) from checkpoint, the shape in current model is torch.Size([4096, 4096]).\n\tsize mismatch for enc.net.19.bias: copying a param with shape torch.Size([1024]) from checkpoint, the shape in current model is torch.Size([4096]).\n\tsize mismatch for enc.mu.weight: copying a param with shape torch.Size([1024, 1024]) from checkpoint, the shape in current model is torch.Size([4096, 4096]).\n\tsize mismatch for enc.mu.bias: copying a param with shape torch.Size([1024]) from checkpoint, the shape in current model is torch.Size([4096]).\n\tsize mismatch for enc.sigma.weight: copying a param with shape torch.Size([1024, 1024]) from checkpoint, the shape in current model is torch.Size([4096, 4096]).\n\tsize mismatch for enc.sigma.bias: copying a param with shape torch.Size([1024]) from checkpoint, the shape in current model is torch.Size([4096]).\n\tsize mismatch for dec.net.0.weight: copying a param with shape torch.Size([1024, 1024]) from checkpoint, the shape in current model is torch.Size([4096, 4096]).\n\tsize mismatch for dec.net.0.bias: copying a param with shape torch.Size([1024]) from checkpoint, the shape in current model is torch.Size([4096]).\n\tsize mismatch for dec.emb_species.weight: copying a param with shape torch.Size([8, 342]) from checkpoint, the shape in current model is torch.Size([8, 1366]).\n\tsize mismatch for dec.emb_class.weight: copying a param with shape torch.Size([12, 341]) from checkpoint, the shape in current model is torch.Size([12, 1365]).\n\tsize mismatch for dec.emb_gender.weight: copying a param with shape torch.Size([3, 341]) from checkpoint, the shape in current model is torch.Size([3, 1365]).\n\tsize mismatch for dec.label_net.weight: copying a param with shape torch.Size([1024, 2048]) from checkpoint, the shape in current model is torch.Size([4096, 8192]).\n\tsize mismatch for dec.label_net.bias: copying a param with shape torch.Size([1024]) from checkpoint, the shape in current model is torch.Size([4096]).",
     "output_type": "error",
     "traceback": [
      "\u001b[0;31m---------------------------------------------------------------------------\u001b[0m",
      "\u001b[0;31mRuntimeError\u001b[0m                              Traceback (most recent call last)",
      "\u001b[0;32m/tmp/ipykernel_4914/3409505740.py\u001b[0m in \u001b[0;36m<module>\u001b[0;34m\u001b[0m\n\u001b[1;32m      1\u001b[0m \u001b[0mcvae\u001b[0m \u001b[0;34m=\u001b[0m \u001b[0mConditionalVariationalAutoEncoder\u001b[0m\u001b[0;34m(\u001b[0m\u001b[0;34m)\u001b[0m\u001b[0;34m\u001b[0m\u001b[0;34m\u001b[0m\u001b[0m\n\u001b[0;32m----> 2\u001b[0;31m \u001b[0mcvae\u001b[0m\u001b[0;34m.\u001b[0m\u001b[0mload_state_dict\u001b[0m\u001b[0;34m(\u001b[0m\u001b[0mtorch\u001b[0m\u001b[0;34m.\u001b[0m\u001b[0mload\u001b[0m\u001b[0;34m(\u001b[0m\u001b[0;34m'cvae_v2.pth'\u001b[0m\u001b[0;34m)\u001b[0m\u001b[0;34m)\u001b[0m\u001b[0;34m\u001b[0m\u001b[0;34m\u001b[0m\u001b[0m\n\u001b[0m",
      "\u001b[0;32m~/miniconda3/envs/mytorch/lib/python3.9/site-packages/torch/nn/modules/module.py\u001b[0m in \u001b[0;36mload_state_dict\u001b[0;34m(self, state_dict, strict)\u001b[0m\n\u001b[1;32m   1480\u001b[0m \u001b[0;34m\u001b[0m\u001b[0m\n\u001b[1;32m   1481\u001b[0m         \u001b[0;32mif\u001b[0m \u001b[0mlen\u001b[0m\u001b[0;34m(\u001b[0m\u001b[0merror_msgs\u001b[0m\u001b[0;34m)\u001b[0m \u001b[0;34m>\u001b[0m \u001b[0;36m0\u001b[0m\u001b[0;34m:\u001b[0m\u001b[0;34m\u001b[0m\u001b[0;34m\u001b[0m\u001b[0m\n\u001b[0;32m-> 1482\u001b[0;31m             raise RuntimeError('Error(s) in loading state_dict for {}:\\n\\t{}'.format(\n\u001b[0m\u001b[1;32m   1483\u001b[0m                                self.__class__.__name__, \"\\n\\t\".join(error_msgs)))\n\u001b[1;32m   1484\u001b[0m         \u001b[0;32mreturn\u001b[0m \u001b[0m_IncompatibleKeys\u001b[0m\u001b[0;34m(\u001b[0m\u001b[0mmissing_keys\u001b[0m\u001b[0;34m,\u001b[0m \u001b[0munexpected_keys\u001b[0m\u001b[0;34m)\u001b[0m\u001b[0;34m\u001b[0m\u001b[0;34m\u001b[0m\u001b[0m\n",
      "\u001b[0;31mRuntimeError\u001b[0m: Error(s) in loading state_dict for ConditionalVariationalAutoEncoder:\n\tMissing key(s) in state_dict: \"dec.net.2.weight\", \"dec.net.2.bias\", \"dec.net.4.weight\", \"dec.net.4.bias\", \"dec.net.6.weight\", \"dec.net.6.bias\", \"dec.net.8.weight\", \"dec.net.8.bias\", \"dec.net.10.weight\", \"dec.net.10.bias\", \"dec.net.12.weight\", \"dec.net.12.bias\", \"dec.net.14.weight\", \"dec.net.14.bias\", \"dec.net.16.weight\", \"dec.net.16.bias\", \"dec.net.18.weight\", \"dec.net.18.bias\". \n\tUnexpected key(s) in state_dict: \"dec.net.3.weight\", \"dec.net.3.bias\", \"dec.net.5.weight\", \"dec.net.5.bias\", \"dec.net.7.weight\", \"dec.net.7.bias\", \"dec.net.9.weight\", \"dec.net.9.bias\", \"dec.net.11.weight\", \"dec.net.11.bias\", \"dec.net.13.weight\", \"dec.net.13.bias\", \"dec.net.15.weight\", \"dec.net.15.bias\", \"dec.net.17.weight\", \"dec.net.17.bias\", \"dec.net.19.weight\", \"dec.net.19.bias\". \n\tsize mismatch for enc.net.0.weight: copying a param with shape torch.Size([8, 4, 4, 4]) from checkpoint, the shape in current model is torch.Size([16, 4, 4, 4]).\n\tsize mismatch for enc.net.0.bias: copying a param with shape torch.Size([8]) from checkpoint, the shape in current model is torch.Size([16]).\n\tsize mismatch for enc.net.2.weight: copying a param with shape torch.Size([16, 8, 3, 3]) from checkpoint, the shape in current model is torch.Size([32, 16, 3, 3]).\n\tsize mismatch for enc.net.2.bias: copying a param with shape torch.Size([16]) from checkpoint, the shape in current model is torch.Size([32]).\n\tsize mismatch for enc.net.4.weight: copying a param with shape torch.Size([32, 16, 3, 3]) from checkpoint, the shape in current model is torch.Size([64, 32, 3, 3]).\n\tsize mismatch for enc.net.4.bias: copying a param with shape torch.Size([32]) from checkpoint, the shape in current model is torch.Size([64]).\n\tsize mismatch for enc.net.6.weight: copying a param with shape torch.Size([64, 32, 3, 3]) from checkpoint, the shape in current model is torch.Size([128, 64, 3, 3]).\n\tsize mismatch for enc.net.6.bias: copying a param with shape torch.Size([64]) from checkpoint, the shape in current model is torch.Size([128]).\n\tsize mismatch for enc.net.8.weight: copying a param with shape torch.Size([128, 64, 3, 3]) from checkpoint, the shape in current model is torch.Size([256, 128, 3, 3]).\n\tsize mismatch for enc.net.8.bias: copying a param with shape torch.Size([128]) from checkpoint, the shape in current model is torch.Size([256]).\n\tsize mismatch for enc.net.10.weight: copying a param with shape torch.Size([256, 128, 2, 2]) from checkpoint, the shape in current model is torch.Size([512, 256, 2, 2]).\n\tsize mismatch for enc.net.10.bias: copying a param with shape torch.Size([256]) from checkpoint, the shape in current model is torch.Size([512]).\n\tsize mismatch for enc.net.12.weight: copying a param with shape torch.Size([512, 256, 2, 2]) from checkpoint, the shape in current model is torch.Size([1024, 512, 2, 2]).\n\tsize mismatch for enc.net.12.bias: copying a param with shape torch.Size([512]) from checkpoint, the shape in current model is torch.Size([1024]).\n\tsize mismatch for enc.net.14.weight: copying a param with shape torch.Size([1024, 512, 2, 2]) from checkpoint, the shape in current model is torch.Size([2048, 1024, 2, 2]).\n\tsize mismatch for enc.net.14.bias: copying a param with shape torch.Size([1024]) from checkpoint, the shape in current model is torch.Size([2048]).\n\tsize mismatch for enc.net.16.weight: copying a param with shape torch.Size([1024, 1024, 2, 2]) from checkpoint, the shape in current model is torch.Size([4096, 2048, 2, 2]).\n\tsize mismatch for enc.net.16.bias: copying a param with shape torch.Size([1024]) from checkpoint, the shape in current model is torch.Size([4096]).\n\tsize mismatch for enc.net.19.weight: copying a param with shape torch.Size([1024, 1024]) from checkpoint, the shape in current model is torch.Size([4096, 4096]).\n\tsize mismatch for enc.net.19.bias: copying a param with shape torch.Size([1024]) from checkpoint, the shape in current model is torch.Size([4096]).\n\tsize mismatch for enc.mu.weight: copying a param with shape torch.Size([1024, 1024]) from checkpoint, the shape in current model is torch.Size([4096, 4096]).\n\tsize mismatch for enc.mu.bias: copying a param with shape torch.Size([1024]) from checkpoint, the shape in current model is torch.Size([4096]).\n\tsize mismatch for enc.sigma.weight: copying a param with shape torch.Size([1024, 1024]) from checkpoint, the shape in current model is torch.Size([4096, 4096]).\n\tsize mismatch for enc.sigma.bias: copying a param with shape torch.Size([1024]) from checkpoint, the shape in current model is torch.Size([4096]).\n\tsize mismatch for dec.net.0.weight: copying a param with shape torch.Size([1024, 1024]) from checkpoint, the shape in current model is torch.Size([4096, 4096]).\n\tsize mismatch for dec.net.0.bias: copying a param with shape torch.Size([1024]) from checkpoint, the shape in current model is torch.Size([4096]).\n\tsize mismatch for dec.emb_species.weight: copying a param with shape torch.Size([8, 342]) from checkpoint, the shape in current model is torch.Size([8, 1366]).\n\tsize mismatch for dec.emb_class.weight: copying a param with shape torch.Size([12, 341]) from checkpoint, the shape in current model is torch.Size([12, 1365]).\n\tsize mismatch for dec.emb_gender.weight: copying a param with shape torch.Size([3, 341]) from checkpoint, the shape in current model is torch.Size([3, 1365]).\n\tsize mismatch for dec.label_net.weight: copying a param with shape torch.Size([1024, 2048]) from checkpoint, the shape in current model is torch.Size([4096, 8192]).\n\tsize mismatch for dec.label_net.bias: copying a param with shape torch.Size([1024]) from checkpoint, the shape in current model is torch.Size([4096])."
     ]
    }
   ],
   "source": [
    "cvae = ConditionalVariationalAutoEncoder()\n",
    "cvae.load_state_dict(torch.load('cvae_v2.pth'))"
   ]
  },
  {
   "cell_type": "code",
   "execution_count": null,
   "id": "005ffda7",
   "metadata": {},
   "outputs": [],
   "source": [
    "rand = torch.randn(C*S*G, 1024)"
   ]
  },
  {
   "cell_type": "code",
   "execution_count": null,
   "id": "41b23f35",
   "metadata": {},
   "outputs": [],
   "source": [
    "Xt = cvae.dec(rand, s, c, g)"
   ]
  },
  {
   "cell_type": "code",
   "execution_count": null,
   "id": "b933f145",
   "metadata": {},
   "outputs": [],
   "source": [
    "grid = make_grid(Xt, nrow=24)"
   ]
  },
  {
   "cell_type": "code",
   "execution_count": null,
   "id": "af1dc81d",
   "metadata": {},
   "outputs": [],
   "source": [
    "np.arange(0, 24, 3)"
   ]
  },
  {
   "cell_type": "code",
   "execution_count": null,
   "id": "ae6d83b4",
   "metadata": {
    "scrolled": false
   },
   "outputs": [],
   "source": [
    "yticks = np.arange(12) + 0.5\n",
    "xticks = np.arange(0, 24, 3) + 1.5\n",
    "\n",
    "fig, ax = plt.subplots(figsize=(25, 15))\n",
    "show_tensor(grid, ax, extent=(0, 24, 0, 12))\n",
    "ax.set_xticks(xticks)\n",
    "ax.set_xticklabels(species)\n",
    "ax.set_yticks(yticks)\n",
    "ax.set_yticklabels(classes)\n",
    "fig.savefig('test_cvae.png')\n",
    "plt.show()"
   ]
  },
  {
   "cell_type": "code",
   "execution_count": null,
   "id": "4d20c61d",
   "metadata": {},
   "outputs": [],
   "source": [
    "N = 15\n",
    "\n",
    "def f(Class, Species, Gender):\n",
    "    c_i = classes.index(Class)\n",
    "    s_i = species.index(Species)\n",
    "    g_i = genders.index(Gender)\n",
    "\n",
    "    c_ = torch.LongTensor([c_i] * N)\n",
    "    s_ = torch.LongTensor([s_i] * N)\n",
    "    g_ = torch.LongTensor([g_i] * N)\n",
    "\n",
    "    latent = torch.randn(N, 1024)\n",
    "    imgs = cvae.dec(latent, s_, c_, g_)\n",
    "\n",
    "    grid = make_grid(imgs, nrow=5)\n",
    "\n",
    "    fig, ax = plt.subplots(figsize=(25, 10))\n",
    "    show_tensor(grid, ax)\n",
    "\n",
    "    xticks, yticks = [], []\n",
    "    ax.set_xticks(xticks)\n",
    "    ax.set_yticks(yticks)\n",
    "    plt.show()\n",
    "\n",
    "ipywidgets.interact(f, Class=classes, Species=species, Gender=genders)"
   ]
  },
  {
   "cell_type": "code",
   "execution_count": null,
   "id": "a42a42fe",
   "metadata": {},
   "outputs": [],
   "source": []
  }
 ],
 "metadata": {
  "kernelspec": {
   "display_name": "Python 3 (ipykernel)",
   "language": "python",
   "name": "python3"
  },
  "language_info": {
   "codemirror_mode": {
    "name": "ipython",
    "version": 3
   },
   "file_extension": ".py",
   "mimetype": "text/x-python",
   "name": "python",
   "nbconvert_exporter": "python",
   "pygments_lexer": "ipython3",
   "version": "3.9.7"
  }
 },
 "nbformat": 4,
 "nbformat_minor": 5
}
