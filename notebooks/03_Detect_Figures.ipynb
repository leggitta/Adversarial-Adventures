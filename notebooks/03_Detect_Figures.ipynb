{
 "cells": [
  {
   "cell_type": "code",
   "execution_count": 1,
   "id": "3945b111",
   "metadata": {},
   "outputs": [],
   "source": [
    "import argparse\n",
    "import cv2\n",
    "import glob\n",
    "import matplotlib.pyplot as plt\n",
    "import numpy as np\n",
    "import os\n",
    "import pandas as pd\n",
    "from PIL import Image\n",
    "import pickle\n",
    "from skimage.transform import resize\n",
    "import sys\n",
    "import torch\n",
    "import torchvision\n",
    "from torchvision.transforms import transforms as transforms\n",
    "\n",
    "sys.path.append('..')\n",
    "from utils import Pose\n",
    "\n",
    "%matplotlib inline"
   ]
  },
  {
   "cell_type": "code",
   "execution_count": 2,
   "id": "dc317da9",
   "metadata": {},
   "outputs": [],
   "source": [
    "# initialize the model\n",
    "model = torchvision.models.detection.keypointrcnn_resnet50_fpn(\n",
    "    pretrained=True, num_keypoints=17\n",
    ")\n",
    "# set the computation device\n",
    "# device = torch.device(0)\n",
    "device = torch.device('cpu')\n",
    "\n",
    "# load the model on to the computation device and set to eval mode\n",
    "model.to(device).eval()\n",
    "\n",
    "# transform to convert the image to tensor\n",
    "transform = transforms.Compose([\n",
    "    transforms.ToTensor()\n",
    "])"
   ]
  },
  {
   "cell_type": "code",
   "execution_count": null,
   "id": "80b07e30",
   "metadata": {
    "scrolled": true
   },
   "outputs": [
    {
     "name": "stdout",
     "output_type": "stream",
     "text": [
      "\r",
      "\t0\t"
     ]
    },
    {
     "name": "stderr",
     "output_type": "stream",
     "text": [
      "/home/alan/miniconda3/envs/mytorch/lib/python3.9/site-packages/torch/functional.py:445: UserWarning: torch.meshgrid: in an upcoming release, it will be required to pass the indexing argument. (Triggered internally at  /opt/conda/conda-bld/pytorch_1634272204863/work/aten/src/ATen/native/TensorShape.cpp:2157.)\n",
      "  return _VF.meshgrid(tensors, **kwargs)  # type: ignore[attr-defined]\n"
     ]
    },
    {
     "name": "stdout",
     "output_type": "stream",
     "text": [
      "\t52\t[Errno 2] No such file or directory: '../data/raw/orc_barbarian_male_000000053.jpg'\n",
      "\t61\t"
     ]
    },
    {
     "name": "stderr",
     "output_type": "stream",
     "text": [
      "/home/alan/miniconda3/envs/mytorch/lib/python3.9/site-packages/PIL/Image.py:975: UserWarning: Palette images with Transparency expressed in bytes should be converted to RGBA images\n",
      "  warnings.warn(\n"
     ]
    },
    {
     "name": "stdout",
     "output_type": "stream",
     "text": [
      "\t117\t"
     ]
    },
    {
     "name": "stderr",
     "output_type": "stream",
     "text": [
      "/home/alan/miniconda3/envs/mytorch/lib/python3.9/site-packages/PIL/Image.py:975: UserWarning: Palette images with Transparency expressed in bytes should be converted to RGBA images\n",
      "  warnings.warn(\n"
     ]
    },
    {
     "name": "stdout",
     "output_type": "stream",
     "text": [
      "\t128\t"
     ]
    }
   ],
   "source": [
    "# image_files = sorted(glob.glob('../data/raw/*.jpg'))\n",
    "\n",
    "out_dir = '../data/figures/'\n",
    "if not os.path.exists(out_dir):\n",
    "    os.mkdir(out_dir)\n",
    "\n",
    "# for i, fname in enumerate(image_files):\n",
    "i = 0\n",
    "\n",
    "while True:\n",
    "    # read metatdata, one row at a time\n",
    "    fname = pd.read_csv(\n",
    "        '../data/raw/metadata.csv',\n",
    "        delimiter=';',\n",
    "        on_bad_lines=lambda x: [x[0], ';'.join(x[1:])],\n",
    "        engine='python',\n",
    "        skiprows=i,\n",
    "        nrows=1\n",
    "    ).iloc[0, 0]\n",
    "    sys.stdout.write('\\r\\t%d\\t' % i)\n",
    "    \n",
    "    try:\n",
    "        image = Image.open(fname).convert('RGB')\n",
    "\n",
    "        # NumPy copy of the image for OpenCV functions\n",
    "        img = np.array(image, dtype=np.float32) / 255\n",
    "\n",
    "        # transform the image\n",
    "        image = transform(image)\n",
    "\n",
    "        # add a batch dimension\n",
    "        image = image.unsqueeze(0).to(device)\n",
    "\n",
    "        # run keypoint detection\n",
    "        with torch.no_grad():\n",
    "            output = model(image)[0]\n",
    "        output['filename'] = fname\n",
    "        \n",
    "        H, W, _ = img.shape\n",
    "\n",
    "        boxes = output['boxes'].cpu()\n",
    "        scores = output['scores'].detach().cpu().numpy()\n",
    "\n",
    "        for j, b in enumerate(boxes):\n",
    "            if scores[j] < 0.9:\n",
    "                continue\n",
    "            if output['keypoints_scores'][j].min() < 0:\n",
    "                continue\n",
    "            \n",
    "            p = Pose(index=j, **output)\n",
    "            p.resize()\n",
    "            \n",
    "            outfile = out_dir + fname.split('/')[-1].rstrip('.jpg') + '_%04d' % j + '.pkl'\n",
    "            with open(outfile, 'wb') as fout:\n",
    "                pickle.dump(p, fout)\n",
    "            \n",
    "    except Exception as e:\n",
    "        print(e)\n",
    "    \n",
    "    i += 1"
   ]
  },
  {
   "cell_type": "code",
   "execution_count": null,
   "id": "8e3b541a",
   "metadata": {},
   "outputs": [],
   "source": [
    "p = Pose(**output)"
   ]
  },
  {
   "cell_type": "code",
   "execution_count": null,
   "id": "1a2034c7",
   "metadata": {},
   "outputs": [],
   "source": [
    "p.plot()"
   ]
  },
  {
   "cell_type": "code",
   "execution_count": null,
   "id": "e8685f6c",
   "metadata": {},
   "outputs": [],
   "source": [
    "p.resize()\n",
    "p.plot()"
   ]
  },
  {
   "cell_type": "code",
   "execution_count": null,
   "id": "31e47047",
   "metadata": {},
   "outputs": [],
   "source": [
    "plt.imshow(p.Z)"
   ]
  },
  {
   "cell_type": "code",
   "execution_count": null,
   "id": "5775a869",
   "metadata": {},
   "outputs": [],
   "source": []
  },
  {
   "cell_type": "code",
   "execution_count": null,
   "id": "e96acd2a",
   "metadata": {},
   "outputs": [],
   "source": [
    "pd.read_csv?"
   ]
  },
  {
   "cell_type": "code",
   "execution_count": null,
   "id": "3410819f",
   "metadata": {},
   "outputs": [],
   "source": []
  }
 ],
 "metadata": {
  "kernelspec": {
   "display_name": "Python 3 (ipykernel)",
   "language": "python",
   "name": "python3"
  },
  "language_info": {
   "codemirror_mode": {
    "name": "ipython",
    "version": 3
   },
   "file_extension": ".py",
   "mimetype": "text/x-python",
   "name": "python",
   "nbconvert_exporter": "python",
   "pygments_lexer": "ipython3",
   "version": "3.9.7"
  }
 },
 "nbformat": 4,
 "nbformat_minor": 5
}
