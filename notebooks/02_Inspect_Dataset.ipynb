{
 "cells": [
  {
   "cell_type": "markdown",
   "metadata": {},
   "source": [
    "# Inspect Dataset\n",
    "\n",
    "Visualize downloaded images"
   ]
  },
  {
   "cell_type": "code",
   "execution_count": null,
   "metadata": {},
   "outputs": [],
   "source": [
    "import cv2\n",
    "from ipywidgets import interactive, IntSlider\n",
    "from IPython.display import clear_output\n",
    "import matplotlib.pyplot as plt\n",
    "import numpy as np\n",
    "import pandas as pd\n",
    "%matplotlib inline"
   ]
  },
  {
   "cell_type": "code",
   "execution_count": null,
   "metadata": {},
   "outputs": [],
   "source": [
    "# read image metadata\n",
    "img_dir = '../data/raw'\n",
    "metadata = pd.read_csv(\n",
    "    f'{img_dir}/metadata.csv',\n",
    "    delimiter=';',\n",
    "    on_bad_lines=lambda x: [x[0], ';'.join(x[1:])],\n",
    "    engine='python'\n",
    ")\n",
    "metadata['species'] = metadata['fname'].apply(lambda x: x.split('/')[-1].split('_')[0])\n",
    "metadata['class'] = metadata['fname'].apply(lambda x: x.split('/')[-1].split('_')[1])\n",
    "metadata['gender'] = metadata['fname'].apply(lambda x: x.split('/')[-1].split('_')[2])\n",
    "metadata['counter'] = metadata['fname'].apply(lambda x: int(x.split('/')[-1].split('_')[3].rstrip('.jpg')))"
   ]
  },
  {
   "cell_type": "code",
   "execution_count": null,
   "metadata": {
    "scrolled": false
   },
   "outputs": [],
   "source": [
    "# view images one by one\n",
    "def f(species_, class_, gender_, n_):\n",
    "    # find the index\n",
    "    ix = np.c_[\n",
    "        metadata['species'] == species_,\n",
    "        metadata['class'] == class_,\n",
    "        metadata['gender'] == gender_,\n",
    "        metadata['counter'] == n_\n",
    "    ].all(1)\n",
    "    fname = metadata[ix].fname.values[0]\n",
    "\n",
    "    # read the image\n",
    "    clear_output(wait=True)\n",
    "    fig, ax = plt.subplots(figsize=(8, 8))\n",
    "    Z = cv2.imread(fname)[:, :, ::-1]\n",
    "    ax.imshow(Z)\n",
    "    ax.set_title(fname)\n",
    "    plt.show()\n",
    "    \n",
    "\n",
    "w = interactive(\n",
    "    f,\n",
    "    species_=metadata['species'].unique().tolist(),\n",
    "    class_=metadata['class'].unique().tolist(),\n",
    "    gender_=metadata['gender'].unique().tolist(),\n",
    "    n_=IntSlider(min=metadata['counter'].min(), max=metadata['counter'].max(), step=1, value=0)\n",
    ")\n",
    "w"
   ]
  },
  {
   "cell_type": "code",
   "execution_count": null,
   "metadata": {},
   "outputs": [],
   "source": [
    "# view sheet of images\n",
    "def f(species_, class_, gender_):\n",
    "    # find the index\n",
    "    ix = np.c_[\n",
    "        metadata['species'] == species_,\n",
    "        metadata['class'] == class_,\n",
    "        metadata['gender'] == gender_\n",
    "    ].all(1)\n",
    "    fnames = metadata[ix].fname.values\n",
    "\n",
    "    clear_output(wait=True)\n",
    "    fig, axes = plt.subplots(20, 15, figsize=(20, 20))\n",
    "    \n",
    "    # read the images\n",
    "    for i, fname in enumerate(fnames):\n",
    "        ax = axes[i % 20, i // 20]\n",
    "        # ax.set_title(fname)\n",
    "        ax.set_xticks([])\n",
    "        ax.set_yticks([])\n",
    "        try:\n",
    "            Z = cv2.imread(fname)[:, :, ::-1]\n",
    "        except:\n",
    "            continue\n",
    "\n",
    "        ax.imshow(Z)\n",
    "    plt.subplots_adjust(wspace=0, hspace=0)\n",
    "    plt.show()\n",
    "    \n",
    "\n",
    "w = interactive(\n",
    "    f,\n",
    "    species_=metadata['species'].unique().tolist(),\n",
    "    class_=metadata['class'].unique().tolist(),\n",
    "    gender_=metadata['gender'].unique().tolist()\n",
    ")\n",
    "w"
   ]
  },
  {
   "cell_type": "code",
   "execution_count": null,
   "metadata": {},
   "outputs": [],
   "source": [
    "np.sqrt(300)"
   ]
  },
  {
   "cell_type": "code",
   "execution_count": null,
   "metadata": {},
   "outputs": [],
   "source": []
  }
 ],
 "metadata": {
  "kernelspec": {
   "display_name": "Python 3 (ipykernel)",
   "language": "python",
   "name": "python3"
  },
  "language_info": {
   "codemirror_mode": {
    "name": "ipython",
    "version": 3
   },
   "file_extension": ".py",
   "mimetype": "text/x-python",
   "name": "python",
   "nbconvert_exporter": "python",
   "pygments_lexer": "ipython3",
   "version": "3.9.7"
  }
 },
 "nbformat": 4,
 "nbformat_minor": 4
}
