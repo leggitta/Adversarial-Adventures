{
 "cells": [
  {
   "cell_type": "markdown",
   "metadata": {},
   "source": [
    "# Inspect Dataset\n",
    "\n",
    "Visualize downloaded images"
   ]
  },
  {
   "cell_type": "code",
   "execution_count": 1,
   "metadata": {},
   "outputs": [],
   "source": [
    "import cv2\n",
    "from ipywidgets import interactive, IntSlider\n",
    "from IPython.display import clear_output\n",
    "import matplotlib.pyplot as plt\n",
    "import numpy as np\n",
    "import pandas as pd\n",
    "%matplotlib inline"
   ]
  },
  {
   "cell_type": "code",
   "execution_count": 2,
   "metadata": {},
   "outputs": [],
   "source": [
    "# read image metadata\n",
    "img_dir = '../data/raw'\n",
    "metadata = pd.read_csv('../data/raw_image_metadata.csv', index_col=0)"
   ]
  },
  {
   "cell_type": "code",
   "execution_count": 3,
   "metadata": {},
   "outputs": [
    {
     "data": {
      "text/html": [
       "<div>\n",
       "<style scoped>\n",
       "    .dataframe tbody tr th:only-of-type {\n",
       "        vertical-align: middle;\n",
       "    }\n",
       "\n",
       "    .dataframe tbody tr th {\n",
       "        vertical-align: top;\n",
       "    }\n",
       "\n",
       "    .dataframe thead th {\n",
       "        text-align: right;\n",
       "    }\n",
       "</style>\n",
       "<table border=\"1\" class=\"dataframe\">\n",
       "  <thead>\n",
       "    <tr style=\"text-align: right;\">\n",
       "      <th></th>\n",
       "      <th>url</th>\n",
       "      <th>fname</th>\n",
       "      <th>species</th>\n",
       "      <th>class</th>\n",
       "      <th>gender</th>\n",
       "      <th>counter</th>\n",
       "    </tr>\n",
       "  </thead>\n",
       "  <tbody>\n",
       "    <tr>\n",
       "      <th>0</th>\n",
       "      <td>https://www.drivethrurpg.com/images/6251/18325...</td>\n",
       "      <td>../data/raw/orc_barbarian_male_000000000.jpg</td>\n",
       "      <td>orc</td>\n",
       "      <td>barbarian</td>\n",
       "      <td>male</td>\n",
       "      <td>0</td>\n",
       "    </tr>\n",
       "    <tr>\n",
       "      <th>1</th>\n",
       "      <td>https://media.miniaturemarket.com/media/catalo...</td>\n",
       "      <td>../data/raw/orc_barbarian_male_000000001.jpg</td>\n",
       "      <td>orc</td>\n",
       "      <td>barbarian</td>\n",
       "      <td>male</td>\n",
       "      <td>1</td>\n",
       "    </tr>\n",
       "    <tr>\n",
       "      <th>2</th>\n",
       "      <td>https://i.pinimg.com/originals/ab/75/bf/ab75bf...</td>\n",
       "      <td>../data/raw/orc_barbarian_male_000000002.jpg</td>\n",
       "      <td>orc</td>\n",
       "      <td>barbarian</td>\n",
       "      <td>male</td>\n",
       "      <td>2</td>\n",
       "    </tr>\n",
       "    <tr>\n",
       "      <th>3</th>\n",
       "      <td>https://i.pinimg.com/originals/c8/fc/d3/c8fcd3...</td>\n",
       "      <td>../data/raw/orc_barbarian_male_000000003.jpg</td>\n",
       "      <td>orc</td>\n",
       "      <td>barbarian</td>\n",
       "      <td>male</td>\n",
       "      <td>3</td>\n",
       "    </tr>\n",
       "    <tr>\n",
       "      <th>4</th>\n",
       "      <td>https://images.squarespace-cdn.com/content/v1/...</td>\n",
       "      <td>../data/raw/orc_barbarian_male_000000004.jpg</td>\n",
       "      <td>orc</td>\n",
       "      <td>barbarian</td>\n",
       "      <td>male</td>\n",
       "      <td>4</td>\n",
       "    </tr>\n",
       "  </tbody>\n",
       "</table>\n",
       "</div>"
      ],
      "text/plain": [
       "                                                 url  \\\n",
       "0  https://www.drivethrurpg.com/images/6251/18325...   \n",
       "1  https://media.miniaturemarket.com/media/catalo...   \n",
       "2  https://i.pinimg.com/originals/ab/75/bf/ab75bf...   \n",
       "3  https://i.pinimg.com/originals/c8/fc/d3/c8fcd3...   \n",
       "4  https://images.squarespace-cdn.com/content/v1/...   \n",
       "\n",
       "                                          fname species      class gender  \\\n",
       "0  ../data/raw/orc_barbarian_male_000000000.jpg     orc  barbarian   male   \n",
       "1  ../data/raw/orc_barbarian_male_000000001.jpg     orc  barbarian   male   \n",
       "2  ../data/raw/orc_barbarian_male_000000002.jpg     orc  barbarian   male   \n",
       "3  ../data/raw/orc_barbarian_male_000000003.jpg     orc  barbarian   male   \n",
       "4  ../data/raw/orc_barbarian_male_000000004.jpg     orc  barbarian   male   \n",
       "\n",
       "   counter  \n",
       "0        0  \n",
       "1        1  \n",
       "2        2  \n",
       "3        3  \n",
       "4        4  "
      ]
     },
     "execution_count": 3,
     "metadata": {},
     "output_type": "execute_result"
    }
   ],
   "source": [
    "metadata.head()"
   ]
  },
  {
   "cell_type": "code",
   "execution_count": 4,
   "metadata": {
    "scrolled": false
   },
   "outputs": [
    {
     "data": {
      "application/vnd.jupyter.widget-view+json": {
       "model_id": "0c0b15fe3d1f45e7a1d40ef8656cca79",
       "version_major": 2,
       "version_minor": 0
      },
      "text/plain": [
       "interactive(children=(Dropdown(description='species_', options=('orc', 'elf', 'dwarf', 'halfling', 'human', 'd…"
      ]
     },
     "metadata": {},
     "output_type": "display_data"
    }
   ],
   "source": [
    "# view images one by one\n",
    "def f(species_, class_, gender_, n_):\n",
    "    # find the index\n",
    "    ix = np.c_[\n",
    "        metadata['species'] == species_,\n",
    "        metadata['class'] == class_,\n",
    "        metadata['gender'] == gender_,\n",
    "        metadata['counter'] == n_\n",
    "    ].all(1)\n",
    "    fname = metadata[ix].fname.values[0]\n",
    "\n",
    "    # read the image\n",
    "    clear_output(wait=True)\n",
    "    fig, ax = plt.subplots(figsize=(8, 8))\n",
    "    Z = cv2.imread(fname)[:, :, ::-1]\n",
    "    ax.imshow(Z)\n",
    "    ax.set_title(fname)\n",
    "    plt.show()\n",
    "    \n",
    "\n",
    "w = interactive(\n",
    "    f,\n",
    "    species_=metadata['species'].unique().tolist(),\n",
    "    class_=metadata['class'].unique().tolist(),\n",
    "    gender_=metadata['gender'].unique().tolist(),\n",
    "    n_=IntSlider(min=metadata['counter'].min(), max=metadata['counter'].max(), step=1, value=0)\n",
    ")\n",
    "w"
   ]
  },
  {
   "cell_type": "code",
   "execution_count": 5,
   "metadata": {},
   "outputs": [
    {
     "data": {
      "application/vnd.jupyter.widget-view+json": {
       "model_id": "855c75fe183b47da8c3da6ef33373cd0",
       "version_major": 2,
       "version_minor": 0
      },
      "text/plain": [
       "interactive(children=(Dropdown(description='species_', options=('orc', 'elf', 'dwarf', 'halfling', 'human', 'd…"
      ]
     },
     "metadata": {},
     "output_type": "display_data"
    }
   ],
   "source": [
    "# view sheet of images\n",
    "def f(species_, class_, gender_):\n",
    "    # find the index\n",
    "    ix = np.c_[\n",
    "        metadata['species'] == species_,\n",
    "        metadata['class'] == class_,\n",
    "        metadata['gender'] == gender_\n",
    "    ].all(1)\n",
    "    fnames = metadata[ix].fname.values\n",
    "\n",
    "    clear_output(wait=True)\n",
    "    fig, axes = plt.subplots(10, 10, figsize=(20, 20))\n",
    "    \n",
    "    # read the images\n",
    "    for i, fname in enumerate(fnames):\n",
    "        ax = axes[i // 10, i % 10]\n",
    "        # ax.set_title(fname)\n",
    "        ax.set_xticks([])\n",
    "        ax.set_yticks([])\n",
    "        try:\n",
    "            Z = cv2.imread(fname)[:, :, ::-1]\n",
    "        except:\n",
    "            continue\n",
    "\n",
    "        ax.imshow(Z)\n",
    "\n",
    "    plt.show()\n",
    "    \n",
    "\n",
    "w = interactive(\n",
    "    f,\n",
    "    species_=metadata['species'].unique().tolist(),\n",
    "    class_=metadata['class'].unique().tolist(),\n",
    "    gender_=metadata['gender'].unique().tolist()\n",
    ")\n",
    "w"
   ]
  },
  {
   "cell_type": "code",
   "execution_count": null,
   "metadata": {},
   "outputs": [],
   "source": []
  }
 ],
 "metadata": {
  "kernelspec": {
   "display_name": "Python 3 (ipykernel)",
   "language": "python",
   "name": "python3"
  },
  "language_info": {
   "codemirror_mode": {
    "name": "ipython",
    "version": 3
   },
   "file_extension": ".py",
   "mimetype": "text/x-python",
   "name": "python",
   "nbconvert_exporter": "python",
   "pygments_lexer": "ipython3",
   "version": "3.9.7"
  }
 },
 "nbformat": 4,
 "nbformat_minor": 4
}
